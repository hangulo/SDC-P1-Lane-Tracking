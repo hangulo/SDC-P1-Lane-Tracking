{
 "cells": [
  {
   "cell_type": "markdown",
   "metadata": {},
   "source": [
    "# Self-Driving Car Engineer Nanodegree\n",
    "\n",
    "\n",
    "## Project \\#1: **Finding Lane Lines on the Road**    \n",
    "(built by Hector Angulo May 2017)\n"
   ]
  },
  {
   "cell_type": "markdown",
   "metadata": {},
   "source": [
    "## Import Packages"
   ]
  },
  {
   "cell_type": "code",
   "execution_count": 18,
   "metadata": {
    "collapsed": true
   },
   "outputs": [],
   "source": [
    "#importing some useful packages\n",
    "import matplotlib.pyplot as plt\n",
    "import matplotlib.image as mpimg\n",
    "import numpy as np\n",
    "import cv2\n",
    "import math\n",
    "from moviepy.editor import VideoFileClip\n",
    "from IPython.display import HTML\n",
    "%matplotlib inline"
   ]
  },
  {
   "cell_type": "markdown",
   "metadata": {},
   "source": [
    "## Helper Functions"
   ]
  },
  {
   "cell_type": "code",
   "execution_count": 29,
   "metadata": {
    "collapsed": true
   },
   "outputs": [],
   "source": [
    "def grayscale(img):\n",
    "    \"\"\"Applies the Grayscale transform\n",
    "    This will return an image with only one color channel\n",
    "    but NOTE: to see the returned image as grayscale\n",
    "    (assuming your grayscaled image is called 'gray')\n",
    "    you should call plt.imshow(gray, cmap='gray')\"\"\"\n",
    "    return cv2.cvtColor(img, cv2.COLOR_RGB2GRAY)\n",
    "    # Or use BGR2GRAY if you read an image with cv2.imread()\n",
    "    # return cv2.cvtColor(img, cv2.COLOR_BGR2GRAY)\n",
    "    \n",
    "def canny(img, low_threshold, high_threshold):\n",
    "    \"\"\"Applies the Canny transform\"\"\"\n",
    "    return cv2.Canny(img, low_threshold, high_threshold)\n",
    "\n",
    "def gaussian_blur(img, kernel_size):\n",
    "    \"\"\"Applies a Gaussian Noise kernel\"\"\"\n",
    "    return cv2.GaussianBlur(img, (kernel_size, kernel_size), 0)\n",
    "\n",
    "def region_of_interest(img, vertices):\n",
    "    \"\"\"\n",
    "    Applies an image mask.\n",
    "    \n",
    "    Only keeps the region of the image defined by the polygon\n",
    "    formed from `vertices`. The rest of the image is set to black.\n",
    "    \"\"\"\n",
    "    #defining a blank mask to start with\n",
    "    mask = np.zeros_like(img)   \n",
    "    \n",
    "    #defining a 3 channel or 1 channel color to fill the mask with depending on the input image\n",
    "    if len(img.shape) > 2:\n",
    "        channel_count = img.shape[2]  # i.e. 3 or 4 depending on your image\n",
    "        ignore_mask_color = (255,) * channel_count\n",
    "    else:\n",
    "        ignore_mask_color = 255\n",
    "        \n",
    "    #filling pixels inside the polygon defined by \"vertices\" with the fill color    \n",
    "    cv2.fillPoly(mask, vertices, ignore_mask_color)\n",
    "    \n",
    "    #returning the image only where mask pixels are nonzero\n",
    "    masked_image = cv2.bitwise_and(img, mask)\n",
    "    return masked_image\n",
    "\n",
    "\n",
    "def draw_lines(img, lines, color=[255, 0, 0], thickness=10):\n",
    "    left_slopes = []\n",
    "    right_slopes = []\n",
    "    left_coordinates = []\n",
    "    right_coordinates = []\n",
    "\n",
    "    \n",
    "    for line in lines:\n",
    "        for x1,y1,x2,y2 in line:\n",
    "            slope = ((y2-y1)/(x2-x1))\n",
    "\n",
    "            ## Lets group into left and right lane\n",
    "            if slope > .1 and slope < 100:   # Right lane since image is inverted\n",
    "                right_slopes.append(slope)\n",
    "                right_coordinates.append([x1,y1])\n",
    "                right_coordinates.append([x2,y2])\n",
    "              \n",
    "            elif slope < -.1 and slope > -100:  #Left lane\n",
    "                left_slopes.append(slope)\n",
    "                left_coordinates.append([x1,y1])\n",
    "                left_coordinates.append([x2,y2])\n",
    "                \n",
    "            else: \n",
    "                print(\"### Too close to horizontal or  vertical line. Removing from group ####\")\n",
    "                           \n",
    "                 \n",
    "    average_left = sum(left_slopes)/ len(left_slopes)\n",
    "    average_right = sum(right_slopes)/ len(right_slopes)\n",
    "\n",
    "    # Sort the coordinates to better find the leftmost and rightmost points (i.e extreme of lines)\n",
    "    sorted_left = sorted(left_coordinates , key=lambda k: [k[0], k[1]])  \n",
    "    sorted_right = sorted(right_coordinates , key=lambda k: [k[0], k[1]])\n",
    "    \n",
    "    \n",
    "    # We will calculate the 'b' for each line and also find the extreme coordinates to create a new single line\n",
    "    left_b= sorted_left[0][1] - average_left*sorted_left[0][0]      # calculate b for left line\n",
    "    left_bottom_x = int((img.shape[0]-left_b)/average_left)\n",
    "    bottom_left = (left_bottom_x, img.shape[0])\n",
    "    last_coordinate = len(sorted_left)-1  #find the  coordinate for the 'top' of left line\n",
    "    top_left  = (sorted_left[last_coordinate][0],sorted_left[last_coordinate][1])   \n",
    "    \n",
    "    right_b = sorted_right[0][1] - average_right*sorted_right[0][0] \n",
    "    right_bottom_x = int((img.shape[0]-right_b)/average_right)\n",
    "    bottom_right = (right_bottom_x, img.shape[0])\n",
    "    top_right = (sorted_right[0][0],sorted_right[0][1])     \n",
    "\n",
    "    # Now draw the lines with all the info we have\n",
    "    cv2.line(img, bottom_left, top_left, color, thickness)   #Left line\n",
    "    \n",
    "    cv2.line(img, bottom_right, top_right, color, thickness)#Right line\n",
    "    \n",
    "    \n",
    "def draw_lines_orig(img, lines, color=[255, 0, 0], thickness=2):\n",
    "    for line in lines:\n",
    "        for x1,y1,x2,y2 in line:\n",
    "            cv2.line(img, (x1, y1), (x2, y2), color, thickness)\n",
    "\n",
    "def hough_lines(img, rho, theta, threshold, min_line_len, max_line_gap):\n",
    "    \"\"\"\n",
    "    `img` should be the output of a Canny transform.\n",
    "        \n",
    "    Returns an image with hough lines drawn.\n",
    "    \"\"\"\n",
    "    lines = cv2.HoughLinesP(img, rho, theta, threshold, np.array([]), minLineLength=min_line_len, maxLineGap=max_line_gap)\n",
    "    line_img = np.zeros((img.shape[0], img.shape[1], 3), dtype=np.uint8)\n",
    "    draw_lines(line_img, lines)\n",
    "    return line_img\n",
    "\n",
    "# Python 3 has support for cool math symbols.\n",
    "\n",
    "def weighted_img(img, initial_img, α=0.8, β=1., λ=0.):\n",
    "    \"\"\"\n",
    "    `img` is the output of the hough_lines(), An image with lines drawn on it.\n",
    "    Should be a blank image (all black) with lines drawn on it.\n",
    "    \n",
    "    `initial_img` should be the image before any processing.\n",
    "    \n",
    "    The result image is computed as follows:\n",
    "    \n",
    "    initial_img * α + img * β + λ\n",
    "    NOTE: initial_img and img must be the same shape!\n",
    "    \"\"\"\n",
    "    return cv2.addWeighted(initial_img, α, img, β, λ)"
   ]
  },
  {
   "cell_type": "markdown",
   "metadata": {},
   "source": [
    "## Lane Finding Pipeline"
   ]
  },
  {
   "cell_type": "code",
   "execution_count": 27,
   "metadata": {
    "collapsed": true
   },
   "outputs": [],
   "source": [
    "def process_image(image):\n",
    "    gray = grayscale(image)\n",
    "    img_hsv = cv2.cvtColor(image, cv2.COLOR_RGB2HSV)\n",
    "    \n",
    "    ##  Mask for only white and yellow lines\n",
    "    lower_yellow = np.array([20, 100, 100])\n",
    "    upper_yellow = np.array([30, 255, 255])\n",
    "    mask_yellow = cv2.inRange(img_hsv, lower_yellow, upper_yellow)\n",
    "    mask_white = cv2.inRange(gray, 200, 255)\n",
    "    mask_yw = cv2.bitwise_or(mask_white, mask_yellow)\n",
    "    mask_yw_image = cv2.bitwise_and(gray, mask_yw)\n",
    "                            \n",
    "    ## Blur to reduce noise before doing edge detection\n",
    "    gauss = cv2.GaussianBlur(mask_yw_image,(5,5), 0)\n",
    "\n",
    "    # Do Canny Edge Detection   \n",
    "    low_threshold = 50\n",
    "    high_threshold = 150\n",
    "    canny_edges = canny(gauss,low_threshold,high_threshold)\n",
    "\n",
    "    # Region of Interest\n",
    "    vertices = [np.array([[80,540],[465,315],[500,315],[900,540]], dtype=np.int32)]\n",
    "    ROI_masked = region_of_interest(canny_edges, vertices)\n",
    "\n",
    "    # Hough Transform\n",
    "    rho = 1\n",
    "    theta = np.pi/180\n",
    "    threshold = 20\n",
    "    min_line_len = 25\n",
    "    max_line_gap = 50\n",
    "    hough_image = hough_lines(ROI_masked, rho, theta, threshold, min_line_len, max_line_gap)\n",
    "\n",
    "    # Apply the lines to the original image\n",
    "    weighted_image = weighted_img(hough_image, image, α=.8, β=1., λ=0.)\n",
    "    \n",
    "    return weighted_image"
   ]
  },
  {
   "cell_type": "markdown",
   "metadata": {},
   "source": [
    "## Test it on Video"
   ]
  },
  {
   "cell_type": "code",
   "execution_count": 30,
   "metadata": {
    "scrolled": false
   },
   "outputs": [
    {
     "name": "stdout",
     "output_type": "stream",
     "text": [
      "[MoviePy] >>>> Building video test_videos_output/solidWhiteRight.mp4\n",
      "[MoviePy] Writing video test_videos_output/solidWhiteRight.mp4\n"
     ]
    },
    {
     "name": "stderr",
     "output_type": "stream",
     "text": [
      "\n",
      "  0%|          | 0/222 [00:00<?, ?it/s]\u001b[A\n",
      "  5%|▍         | 10/222 [00:00<00:02, 98.49it/s]\u001b[A\n",
      "  9%|▉         | 21/222 [00:00<00:01, 101.28it/s]\u001b[A\n",
      " 14%|█▍        | 32/222 [00:00<00:01, 101.35it/s]\u001b[A\n",
      " 19%|█▉        | 42/222 [00:00<00:01, 99.27it/s] \u001b[A\n",
      " 23%|██▎       | 50/222 [00:00<00:01, 86.74it/s]\u001b[A\n",
      " 26%|██▌       | 58/222 [00:00<00:02, 77.32it/s]\u001b[A\n",
      " 29%|██▉       | 65/222 [00:00<00:02, 66.74it/s]\u001b[A\n",
      " 32%|███▏      | 72/222 [00:00<00:02, 67.06it/s]\u001b[A\n",
      " 36%|███▌      | 79/222 [00:01<00:02, 62.28it/s]\u001b[A\n",
      " 39%|███▉      | 87/222 [00:01<00:02, 65.29it/s]\u001b[A\n",
      " 42%|████▏     | 94/222 [00:01<00:01, 64.62it/s]\u001b[A\n",
      " 45%|████▌     | 101/222 [00:01<00:01, 63.47it/s]\u001b[A\n",
      " 49%|████▊     | 108/222 [00:01<00:01, 64.62it/s]\u001b[A\n",
      " 52%|█████▏    | 115/222 [00:01<00:01, 65.83it/s]\u001b[A\n",
      " 55%|█████▍    | 122/222 [00:01<00:01, 65.36it/s]\u001b[A\n",
      " 58%|█████▊    | 129/222 [00:01<00:01, 63.07it/s]\u001b[A\n",
      " 61%|██████▏   | 136/222 [00:01<00:01, 63.72it/s]\u001b[A\n",
      " 65%|██████▍   | 144/222 [00:02<00:01, 67.08it/s]\u001b[A\n",
      " 68%|██████▊   | 151/222 [00:02<00:01, 63.66it/s]\u001b[A\n",
      " 71%|███████   | 158/222 [00:02<00:01, 62.03it/s]\u001b[A\n",
      " 74%|███████▍  | 165/222 [00:02<00:00, 63.23it/s]\u001b[A\n",
      " 78%|███████▊  | 173/222 [00:02<00:00, 65.52it/s]\u001b[A\n",
      " 82%|████████▏ | 181/222 [00:02<00:00, 67.63it/s]\u001b[A\n",
      " 85%|████████▍ | 188/222 [00:02<00:00, 67.60it/s]\u001b[A\n",
      " 88%|████████▊ | 196/222 [00:02<00:00, 69.76it/s]\u001b[A\n",
      " 92%|█████████▏| 204/222 [00:02<00:00, 68.09it/s]\u001b[A\n",
      " 95%|█████████▌| 212/222 [00:03<00:00, 69.36it/s]\u001b[A\n",
      " 99%|█████████▉| 220/222 [00:03<00:00, 69.87it/s]\u001b[A\n",
      "100%|█████████▉| 221/222 [00:03<00:00, 69.78it/s]\u001b[A"
     ]
    },
    {
     "name": "stdout",
     "output_type": "stream",
     "text": [
      "[MoviePy] Done.\n",
      "[MoviePy] >>>> Video ready: test_videos_output/solidWhiteRight.mp4 \n",
      "\n",
      "CPU times: user 3.59 s, sys: 655 ms, total: 4.24 s\n",
      "Wall time: 3.6 s\n"
     ]
    },
    {
     "data": {
      "text/html": [
       "\n",
       "<video width=\"960\" height=\"540\" controls>\n",
       "  <source src=\"test_videos_output/solidWhiteRight.mp4\">\n",
       "</video>\n"
      ],
      "text/plain": [
       "<IPython.core.display.HTML object>"
      ]
     },
     "execution_count": 30,
     "metadata": {},
     "output_type": "execute_result"
    }
   ],
   "source": [
    "white_output = 'test_videos_output/solidWhiteRight.mp4'\n",
    "clip1 = VideoFileClip(\"test_videos/solidWhiteRight.mp4\")\n",
    "white_clip = clip1.fl_image(process_image) #NOTE: this function expects color images!!\n",
    "%time white_clip.write_videofile(white_output, audio=False)\n",
    "\n",
    "HTML(\"\"\"\n",
    "<video width=\"960\" height=\"540\" controls>\n",
    "  <source src=\"{0}\">\n",
    "</video>\n",
    "\"\"\".format(white_output))"
   ]
  },
  {
   "cell_type": "code",
   "execution_count": null,
   "metadata": {
    "collapsed": true
   },
   "outputs": [],
   "source": []
  }
 ],
 "metadata": {
  "kernelspec": {
   "display_name": "Python 3",
   "language": "python",
   "name": "python3"
  },
  "language_info": {
   "codemirror_mode": {
    "name": "ipython",
    "version": 3
   },
   "file_extension": ".py",
   "mimetype": "text/x-python",
   "name": "python",
   "nbconvert_exporter": "python",
   "pygments_lexer": "ipython3",
   "version": "3.5.2"
  },
  "widgets": {
   "state": {},
   "version": "1.1.2"
  }
 },
 "nbformat": 4,
 "nbformat_minor": 2
}
